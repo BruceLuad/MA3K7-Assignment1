{
 "cells": [
  {
   "cell_type": "code",
   "execution_count": 1,
   "id": "a81b904b",
   "metadata": {},
   "outputs": [
    {
     "name": "stdout",
     "output_type": "stream",
     "text": [
      "[0, 0, 0]\n",
      "number of pairs:  1\n",
      "[0, 1, 1, 2, 3, 5, 8, 3, 1, 4, 5, 9, 4, 3, 7, 0, 7, 7, 4, 1, 5, 6, 1, 7, 8, 5, 3, 8, 1, 9, 0, 9, 9, 8, 7, 5, 2, 7, 9, 6, 5, 1, 6, 7, 3, 0, 3, 3, 6, 9, 5, 4, 9, 3, 2, 5, 7, 2, 9, 1, 0, 1]\n",
      "number of pairs:  60\n",
      "[0, 2, 2, 4, 6, 0, 6, 6, 2, 8, 0, 8, 8, 6, 4, 0, 4, 4, 8, 2, 0, 2]\n",
      "number of pairs:  20\n",
      "[0, 5, 5, 0, 5]\n",
      "number of pairs:  3\n",
      "[1, 3, 4, 7, 1, 8, 9, 7, 6, 3, 9, 2, 1, 3]\n",
      "number of pairs:  12\n",
      "[2, 6, 8, 4, 2, 6]\n",
      "number of pairs:  4\n"
     ]
    }
   ],
   "source": [
    "##attempt2\n",
    "#We are finding all of the bracelets\n",
    "#An array to keep track of all the pairs that i have seen\n",
    "seen_pair = []\n",
    "#iterate from (0,0) to (9,9)\n",
    "for i in range(10):\n",
    "    for j in range(10):\n",
    "        num_1 = i\n",
    "        num_2 = j\n",
    "        #The sequence \n",
    "        num_seq = [num_1,num_2]\n",
    " \n",
    "        #After knowing that it will repeat the initial 2 numbers\n",
    "        start_pair = (num_1,num_2)\n",
    "\n",
    "        #If the starting pair is unseen we will construct the bracelet\n",
    "        if start_pair not in seen_pair:\n",
    "            rep_pair = False\n",
    "            while rep_pair == False:\n",
    "                num_seq.append((num_1+num_2)%10)\n",
    "                #check for repitition\n",
    "                if (num_2,(num_1+num_2)%10) == start_pair:\n",
    "                    rep_pair = True\n",
    "                else:\n",
    "                    seen_pair.append((num_2,(num_1+num_2)%10))\n",
    "                #Update the numbers for new calculation\n",
    "                    num_1,num_2 = num_2,(num_1+num_2)%10\n",
    "            print(num_seq)\n",
    "            print(\"number of pairs: \",len(num_seq)-2)\n"
   ]
  },
  {
   "cell_type": "code",
   "execution_count": null,
   "id": "756331a4",
   "metadata": {},
   "outputs": [],
   "source": []
  }
 ],
 "metadata": {
  "kernelspec": {
   "display_name": "Python 3 (ipykernel)",
   "language": "python",
   "name": "python3"
  },
  "language_info": {
   "codemirror_mode": {
    "name": "ipython",
    "version": 3
   },
   "file_extension": ".py",
   "mimetype": "text/x-python",
   "name": "python",
   "nbconvert_exporter": "python",
   "pygments_lexer": "ipython3",
   "version": "3.9.12"
  }
 },
 "nbformat": 4,
 "nbformat_minor": 5
}
