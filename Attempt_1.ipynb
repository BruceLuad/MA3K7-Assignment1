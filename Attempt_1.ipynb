{
 "cells": [
  {
   "cell_type": "code",
   "execution_count": null,
   "id": "95f0921e",
   "metadata": {},
   "outputs": [],
   "source": [
    "#Input for the inital 2 numbers of the sequence\n",
    "num_1 = 5\n",
    "num_2 = 6\n",
    "\n",
    "#The sequence\n",
    "num_seq = [num_1,num_2]\n",
    "\n",
    "#An array to keep track of all the pairs that exist in the sequence\n",
    "num_pair =[(num_1,num_2)]\n",
    "\n",
    "#Generating the sequence until there is a repition\n",
    "rep_pair = False\n",
    "while rep_pair == False:\n",
    "    num_seq.append((num_1+num_2)%10)\n",
    "    #check for repitition\n",
    "    if (num_2,(num_1+num_2)%10) in num_pair:\n",
    "        rep_pair = True\n",
    "    else:\n",
    "        num_pair.append((num_2,(num_1+num_2)%10))\n",
    "    #Update the numbers for new calculation\n",
    "        num_1,num_2 = num_2,(num_1+num_2)%10\n",
    "print(num_seq)\n",
    "print(\"number of pairs: \",len(num_seq)-2)"
   ]
  }
 ],
 "metadata": {
  "kernelspec": {
   "display_name": "Python 3 (ipykernel)",
   "language": "python",
   "name": "python3"
  },
  "language_info": {
   "codemirror_mode": {
    "name": "ipython",
    "version": 3
   },
   "file_extension": ".py",
   "mimetype": "text/x-python",
   "name": "python",
   "nbconvert_exporter": "python",
   "pygments_lexer": "ipython3",
   "version": "3.9.12"
  }
 },
 "nbformat": 4,
 "nbformat_minor": 5
}
